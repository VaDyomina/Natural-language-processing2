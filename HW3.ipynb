{
  "nbformat": 4,
  "nbformat_minor": 0,
  "metadata": {
    "kernelspec": {
      "display_name": "Python 3",
      "language": "python",
      "name": "python3"
    },
    "language_info": {
      "codemirror_mode": {
        "name": "ipython",
        "version": 2
      },
      "file_extension": ".py",
      "mimetype": "text/x-python",
      "name": "python",
      "nbconvert_exporter": "python",
      "pygments_lexer": "ipython2",
      "version": "2.7.16"
    },
    "colab": {
      "name": "HW3.ipynb",
      "provenance": [],
      "collapsed_sections": []
    }
  },
  "cells": [
    {
      "cell_type": "markdown",
      "metadata": {
        "id": "pwemtTbSJAwd",
        "colab_type": "text"
      },
      "source": [
        "# Домашнее задание 3. Разрешение семантической многозначности.\n",
        "\n",
        "При выполнении домашнего задания можно пользоваться тетрадками с семинаров.\n",
        "\n",
        "### Описание задания:\n",
        "\n",
        "Выберите одну из предложенных лексем: _свет_, _острый_, _лук_, _замок_.\n",
        "\n",
        "1. Выберите 2-3 значения лексемы по словарю (рекомендую использовать [МАС](http://feb-web.ru/feb/mas/mas-abc/), обязательно напишите, каким словарем пользовались).\n",
        "Для каждого значения придумайте несколько \"диагностических\" слов (которые сигнализируют о реализации одного из значений в контексте): \n",
        "например, _ключ_ — _вода_ / _дверь_. Подберите по НКРЯ контексты для выбранной лексемы, содержащие диагностические слова.\n",
        "Таким образом, получается размеченный тестсет.\n",
        "\n",
        "2. Для каждого контекста определите значение автоматически — с помощью AdaGram / ELMo на выбор.\n",
        "В случае с AdaGram вы сразу получаете какой-то номер значения, с ELMo — нужно кластеризовать.\n",
        "\n",
        "3. Возьмите словарные толкования для каждого значения и припишите ему значение автоматически\n",
        "тем же способом, что и в п.2.\n",
        "\n",
        "4. Придумайте и реализуйте способ соотнести толкования с значениями с помощью тезауруса (Wiki_ru_wordnet / РуТез). \n",
        "\n",
        "5. Оцените accuracy — в какой доле контекстов автоматически определенно значение для контекста совпадает \n",
        "с автоматически определенным значением толкования."
      ]
    },
    {
      "cell_type": "markdown",
      "metadata": {
        "id": "-PuRt48NJAwe",
        "colab_type": "text"
      },
      "source": [
        "# Описание работы"
      ]
    },
    {
      "cell_type": "markdown",
      "metadata": {
        "id": "36Gp5pKnJAwf",
        "colab_type": "text"
      },
      "source": [
        "Мною было выбрано слово __свет__ в качестве рассматриваемой лексемы."
      ]
    },
    {
      "cell_type": "code",
      "metadata": {
        "id": "pLSvhR_kJAwf",
        "colab_type": "code",
        "colab": {}
      },
      "source": [
        "LIGHT = 'свет'"
      ],
      "execution_count": 0,
      "outputs": []
    },
    {
      "cell_type": "markdown",
      "metadata": {
        "id": "UiR0nHzhJAwi",
        "colab_type": "text"
      },
      "source": [
        "В словаре МАС у слова __свет__ есть следующие значения:"
      ]
    },
    {
      "cell_type": "markdown",
      "metadata": {
        "id": "7kPf-OoHJAwj",
        "colab_type": "text"
      },
      "source": [
        "__СВЕТ1, -а (-у), предл. в све́те, на свету́, м.__\n",
        "\n",
        "    1. Электромагнитное излучение, воспринимаемое глазом и делающее видимым окружающий мир. Солнечный свет. Свет луны. Свет свечи. Луч света. Скорость света. Преломление света. Свет и тьма. □ Слабым светом горит ночник. Григорович, Гуттаперчевый мальчик. Алый свет вечерней зари медленно скользит по корням и стволам деревьев. Тургенев, Ермолай и мельничиха.\n",
        "\n",
        "    2. Освещение, характерное для какой-л. части суток. Дневной свет. □ Синими переливами играл утренний свет. Шолохов, Тихий Дон. На улицах был еще неопределенный, рассеянный свет белых ночей. Каверин, Открытая книга. || Разг. Рассвет, восход солнца. Еще семь часов до света! Тогда эта черная, полная мокрого снега ночь уйдет и даст место серому дню. Гаршин, Очень коротенький роман. Как и в прошлую ночь, едва забрезжил свет, она уже проснулась. Чехов, Невеста.\n",
        "\n",
        "    3. Источник освещения и приспособление для освещения в домах и на улицах. Зажечь в комнате свет. Выключить свет. □ Она погасила верхний свет, оставив гореть в углу синюю настольную лампу. Казакевич, Дом на площади.\n",
        "\n",
        "    4. Место, откуда исходит освещение, освещенное место, пространство, где светло. Встать спиной к свету. □ — У вас, Анна Федоровна, нервы расстроены, я вам пропишу немножко лавровишневой воды, на свет не ставьте — она портится. Герцен, Доктор Крупов. Доктор взял ребенка на руки, быстро повернул к свету и заглянул в глаза. Короленко, Слепой музыкант.\n",
        "\n",
        "    5. Иск. Светлое место, пятно на картине, передающее наибольшую освещенность какого-л. участка изображаемого пространства. Контрасты света и тени. □ Ваша картина, в тонах на земле — безукоризненна, только вода чуть-чуть светла, и небо тоже хорошо, исключая самого верхнего облака, большого пятна света. Крамской, Письмо Ф. А. Васильеву, 22 февр. 1872.\n",
        "\n",
        "    6. перен. Блеск глаз под влиянием какого-л. чувства, радостное, ясное выражение лица. Все лицо его светилось тогда каким-то внутренним светом. Короленко, С двух сторон. У профессора вспыхнули глаза злым светом. А. Н. Толстой, Необычайные приключения на волжском пароходе.\n",
        "\n",
        "    7. перен.; чего. То, что делает ясным, понятным мир, то, что делает радостной, счастливой жизнь. Свет истины. □ [Андрей Иванович] стал говорить о свете знания, о святости труда, о широком и дружном товариществе. Вересаев, Два конца. [Богомолов:] Когда человек чувствует, что его любят, — как расцветает его душа в свете любви! Влюбленные и любящие всегда талантливы. М. Горький, [Яков Богомолов]. || Употребляется как символ истины, разума, просвещения или радости, счастья. Доля народа, Счастье его, Свет и свобода Прежде всего! Н. Некрасов, Кому на Руси жить хорошо. Веками шел русский народ из нищеты к своему счастливому дню, веками боролся за каждый свой шаг к свету. Тихонов, Ленинград принимает бой. [Распер:] За что мне послана такая жизнь — ни света, ни радости. А. Н. Толстой, Делец.\n",
        "\n",
        "    8. (обычно со словом „мой“ или с именем собственным). Народно-поэт. Ласковое, приветливое обращение к кому-л. — Свет ты мой! послушай меня, старика: напиши этому разбойнику, что ты пошутил. Пушкин, Капитанская дочка. — Что ты, свет, что ты, сударь, Григорий Иваныч? — посмеиваясь и поеживаясь, говорила бабушка. — Куда уж мне плясать. М. Горький, Детство.\n",
        "    \n",
        "__СВЕТ2, -а, м.__\n",
        "\n",
        "    1. Земля со всем существующим на ней, мир1, вселенная. Части света. Путешествие вокруг света. □ — Я в России живу двадцать восемь лет, и все с народом… И знаю, что лучше этого народа никакого народа на свете нет! Гл. Успенский, Письма с дороги. Мигающий огонек горел на мысе Крильон, самом южном советском мысе в этой стороне света. Чаковский, У нас уже утро.\n",
        "\n",
        "    2. Устар. Окружающие люди, общество. И сердце бросил в море жизни шумной, И свет не пощадил — и бог не спас! Лермонтов, Памяти А. И. Одоевского. [Ане] казалось, что весь свет видит ее дешевую шляпку и дырочки на ботинках. Чехов, Анна на шее.\n",
        "\n",
        "    3. Ограниченный круг людей, составляющий высший слой привилегированных классов буржуазно-дворянского общества. Большой свет. Бывать в свете. Положение в свете. □ [Аянова] трудно было бы представить себе где-нибудь в другом городе, кроме Петербурга, и в другой сфере, кроме света, то есть известного высшего слоя петербургского населения. И. Гончаров, Обрыв. [Турченко] очень редко показывался в уездном свете. Куприн, Черная молния."
      ]
    },
    {
      "cell_type": "markdown",
      "metadata": {
        "id": "LE8R7Rr3JAwj",
        "colab_type": "text"
      },
      "source": [
        "Зафиксируем два значения, которые будем в дальнейшем рассматривать:\n",
        "\n",
        "* Источник освещения и приспособление для освещения в домах и на улицах. Зажечь в комнате свет. Выключить свет. (3-е значение для __СВЕТ1__)\n",
        "\n",
        "* Земля со всем существующим на ней, мир1, вселенная. Части света. Путешествие вокруг света. (1-е значение для __СВЕТ2__)"
      ]
    },
    {
      "cell_type": "markdown",
      "metadata": {
        "id": "VZKcUS0OJAwk",
        "colab_type": "text"
      },
      "source": [
        "__\"Диагностические\" слова__ для каждого из рассматриваемых значений:\n",
        "\n",
        "* __СВЕТ1__: яркость, лампа, фонарь\n",
        "* __СВЕТ2__: целый, сторона, край"
      ]
    },
    {
      "cell_type": "markdown",
      "metadata": {
        "id": "ozBG-YLoJAwk",
        "colab_type": "text"
      },
      "source": [
        "Составим датасеты для каждого значения с учетом \"диагностических\" слов:"
      ]
    },
    {
      "cell_type": "code",
      "metadata": {
        "id": "JopG7ix3JAwl",
        "colab_type": "code",
        "colab": {}
      },
      "source": [
        "light_dataset = [\n",
        "    'И лишь в одном из домов Тбилиси горел яркий свет.',\n",
        "    'В спальне горит лампа, свет проникает в гостиную, косой кровавый блик стоит на стене, отброшенный туда медным боком княжеского сундука.',\n",
        "    'Остров подумал, что это кто-то бросил на его лицо слишком яркий свет из фонаря через окошко над дверью.'\n",
        "]"
      ],
      "execution_count": 0,
      "outputs": []
    },
    {
      "cell_type": "code",
      "metadata": {
        "id": "8OoIIFfnJAwn",
        "colab_type": "code",
        "colab": {}
      },
      "source": [
        "world_dataset = [\n",
        "    'Поэтому я люблю русских, ибо нет такого ужасного места на целом свете, куда бы я ни отправилась с удовольствием, сопровождая его.',\n",
        "    'Какая сторона света имеет право закрепить за собой все нарастающий эксцентриситет грузного тела российской государственности?',\n",
        "    'Как бы ни было, мадемуазель Жорж влюбилась в Бенкендорфа настолько, что решилась следовать за ним на край света.'\n",
        "]"
      ],
      "execution_count": 0,
      "outputs": []
    },
    {
      "cell_type": "code",
      "metadata": {
        "id": "EBULlHY3YC_f",
        "colab_type": "code",
        "colab": {}
      },
      "source": [
        "light_definition = 'Освещение, характерное для какой-л. части суток. Дневной свет. □ Синими переливами играл утренний свет. Шолохов, Тихий Дон. На улицах был еще неопределенный, рассеянный свет белых ночей. Каверин, Открытая книга. || Разг. Рассвет, восход солнца. Еще семь часов до света! Тогда эта черная, полная мокрого снега ночь уйдет и даст место серому дню. Гаршин, Очень коротенький роман. Как и в прошлую ночь, едва забрезжил свет, она уже проснулась. Чехов, Невеста.'"
      ],
      "execution_count": 0,
      "outputs": []
    },
    {
      "cell_type": "code",
      "metadata": {
        "id": "l_E6559AYESL",
        "colab_type": "code",
        "colab": {}
      },
      "source": [
        "world_definition = 'Земля со всем существующим на ней, мир1, вселенная. Части света. Путешествие вокруг света. □ — Я в России живу двадцать восемь лет, и все с народом… И знаю, что лучше этого народа никакого народа на свете нет! Гл. Успенский, Письма с дороги. Мигающий огонек горел на мысе Крильон, самом южном советском мысе в этой стороне света. Чаковский, У нас уже утро.'"
      ],
      "execution_count": 0,
      "outputs": []
    },
    {
      "cell_type": "markdown",
      "metadata": {
        "id": "t-QnTyevJAwp",
        "colab_type": "text"
      },
      "source": [
        "# Основная часть работы"
      ]
    },
    {
      "cell_type": "code",
      "metadata": {
        "id": "N8rQrLY3JAwp",
        "colab_type": "code",
        "outputId": "180331df-1b87-4d67-c150-7e3d720063d2",
        "colab": {
          "base_uri": "https://localhost:8080/",
          "height": 973
        }
      },
      "source": [
        "!python3 -m pip install Cython numpy\n",
        "!python3 -m pip install git+https://github.com/lopuhin/python-adagram.git --upgrade\n",
        "!python3 -m pip install pymorphy2\n",
        "!python3 -m pip install wiki_ru_wordnet\n",
        "!pip uninstall pymystem3\n",
        "!pip install pymystem3==0.1.10"
      ],
      "execution_count": 0,
      "outputs": [
        {
          "output_type": "stream",
          "text": [
            "Requirement already satisfied: Cython in /usr/local/lib/python3.6/dist-packages (0.29.14)\n",
            "Requirement already satisfied: numpy in /usr/local/lib/python3.6/dist-packages (1.17.4)\n",
            "Collecting git+https://github.com/lopuhin/python-adagram.git\n",
            "  Cloning https://github.com/lopuhin/python-adagram.git to /tmp/pip-req-build-9k4xqsz3\n",
            "  Running command git clone -q https://github.com/lopuhin/python-adagram.git /tmp/pip-req-build-9k4xqsz3\n",
            "Requirement already satisfied, skipping upgrade: cython in /usr/local/lib/python3.6/dist-packages (from adagram==0.0.1) (0.29.14)\n",
            "Requirement already satisfied, skipping upgrade: joblib in /usr/local/lib/python3.6/dist-packages (from adagram==0.0.1) (0.14.1)\n",
            "Requirement already satisfied, skipping upgrade: numpy>=1.9 in /usr/local/lib/python3.6/dist-packages (from adagram==0.0.1) (1.17.4)\n",
            "Requirement already satisfied, skipping upgrade: six in /usr/local/lib/python3.6/dist-packages (from adagram==0.0.1) (1.12.0)\n",
            "Building wheels for collected packages: adagram\n",
            "  Building wheel for adagram (setup.py) ... \u001b[?25l\u001b[?25hdone\n",
            "  Created wheel for adagram: filename=adagram-0.0.1-cp36-cp36m-linux_x86_64.whl size=464618 sha256=34529e70e883b1839f27c3dbc63f07e95400018094dcfdc6390adc71ea755db1\n",
            "  Stored in directory: /tmp/pip-ephem-wheel-cache-_nzrrwrn/wheels/11/0f/46/f5df96670df8f7973b4c2311ffc9b02e435a7bd3207f992c4d\n",
            "Successfully built adagram\n",
            "Installing collected packages: adagram\n",
            "Successfully installed adagram-0.0.1\n",
            "Collecting pymorphy2\n",
            "\u001b[?25l  Downloading https://files.pythonhosted.org/packages/a3/33/fff9675c68b5f6c63ec8c6e6ff57827dda28a1fa5b2c2d727dffff92dd47/pymorphy2-0.8-py2.py3-none-any.whl (46kB)\n",
            "\u001b[K     |████████████████████████████████| 51kB 2.5MB/s \n",
            "\u001b[?25hCollecting pymorphy2-dicts<3.0,>=2.4\n",
            "\u001b[?25l  Downloading https://files.pythonhosted.org/packages/02/51/2465fd4f72328ab50877b54777764d928da8cb15b74e2680fc1bd8cb3173/pymorphy2_dicts-2.4.393442.3710985-py2.py3-none-any.whl (7.1MB)\n",
            "\u001b[K     |████████████████████████████████| 7.1MB 6.7MB/s \n",
            "\u001b[?25hCollecting dawg-python>=0.7\n",
            "  Downloading https://files.pythonhosted.org/packages/6a/84/ff1ce2071d4c650ec85745766c0047ccc3b5036f1d03559fd46bb38b5eeb/DAWG_Python-0.7.2-py2.py3-none-any.whl\n",
            "Requirement already satisfied: docopt>=0.6 in /usr/local/lib/python3.6/dist-packages (from pymorphy2) (0.6.2)\n",
            "Installing collected packages: pymorphy2-dicts, dawg-python, pymorphy2\n",
            "Successfully installed dawg-python-0.7.2 pymorphy2-0.8 pymorphy2-dicts-2.4.393442.3710985\n",
            "Collecting wiki_ru_wordnet\n",
            "\u001b[?25l  Downloading https://files.pythonhosted.org/packages/4a/94/0bd5cb96f0b92bc98908194721a1d49f122e3c670fc2705aae19535dee39/wiki_ru_wordnet-1.0.3.tar.gz (20.6MB)\n",
            "\u001b[K     |████████████████████████████████| 20.6MB 210kB/s \n",
            "\u001b[?25hBuilding wheels for collected packages: wiki-ru-wordnet\n",
            "  Building wheel for wiki-ru-wordnet (setup.py) ... \u001b[?25l\u001b[?25hdone\n",
            "  Created wheel for wiki-ru-wordnet: filename=wiki_ru_wordnet-1.0.3-cp36-none-any.whl size=20890443 sha256=5d344e5337e76eb8949d0b81c40831d2750371dd3a2c83a16fb5550433eb25f6\n",
            "  Stored in directory: /root/.cache/pip/wheels/48/6a/c8/22758a66c35b21c1491861e8ab4809b1fd466d1d2445e99fda\n",
            "Successfully built wiki-ru-wordnet\n",
            "Installing collected packages: wiki-ru-wordnet\n",
            "Successfully installed wiki-ru-wordnet-1.0.3\n",
            "Uninstalling pymystem3-0.2.0:\n",
            "  Would remove:\n",
            "    /usr/local/lib/python3.6/dist-packages/pymystem3-0.2.0.dist-info/*\n",
            "    /usr/local/lib/python3.6/dist-packages/pymystem3/*\n",
            "Proceed (y/n)? y\n",
            "  Successfully uninstalled pymystem3-0.2.0\n",
            "Collecting pymystem3==0.1.10\n",
            "  Downloading https://files.pythonhosted.org/packages/51/56/57e550b53587719e92330a79c7c0f555402d953b00700efae6d5ca53cdef/pymystem3-0.1.10-py3-none-any.whl\n",
            "Requirement already satisfied: requests in /usr/local/lib/python3.6/dist-packages (from pymystem3==0.1.10) (2.21.0)\n",
            "Requirement already satisfied: chardet<3.1.0,>=3.0.2 in /usr/local/lib/python3.6/dist-packages (from requests->pymystem3==0.1.10) (3.0.4)\n",
            "Requirement already satisfied: urllib3<1.25,>=1.21.1 in /usr/local/lib/python3.6/dist-packages (from requests->pymystem3==0.1.10) (1.24.3)\n",
            "Requirement already satisfied: certifi>=2017.4.17 in /usr/local/lib/python3.6/dist-packages (from requests->pymystem3==0.1.10) (2019.11.28)\n",
            "Requirement already satisfied: idna<2.9,>=2.5 in /usr/local/lib/python3.6/dist-packages (from requests->pymystem3==0.1.10) (2.8)\n",
            "Installing collected packages: pymystem3\n",
            "Successfully installed pymystem3-0.1.10\n"
          ],
          "name": "stdout"
        }
      ]
    },
    {
      "cell_type": "code",
      "metadata": {
        "id": "fMHD_-SdJAws",
        "colab_type": "code",
        "outputId": "2d86a2ea-6f08-4920-d0de-ba9212846b8a",
        "colab": {
          "base_uri": "https://localhost:8080/",
          "height": 215
        }
      },
      "source": [
        "!wget https://s3.amazonaws.com/kostia.lopuhin/all.a010.p10.d300.w5.m100.nonorm.slim.joblib"
      ],
      "execution_count": 0,
      "outputs": [
        {
          "output_type": "stream",
          "text": [
            "--2019-12-25 23:10:51--  https://s3.amazonaws.com/kostia.lopuhin/all.a010.p10.d300.w5.m100.nonorm.slim.joblib\n",
            "Resolving s3.amazonaws.com (s3.amazonaws.com)... 52.216.95.189\n",
            "Connecting to s3.amazonaws.com (s3.amazonaws.com)|52.216.95.189|:443... connected.\n",
            "HTTP request sent, awaiting response... 200 OK\n",
            "Length: 1462416741 (1.4G) [application/x-www-form-urlencoded]\n",
            "Saving to: ‘all.a010.p10.d300.w5.m100.nonorm.slim.joblib’\n",
            "\n",
            "all.a010.p10.d300.w 100%[===================>]   1.36G  45.4MB/s    in 31s     \n",
            "\n",
            "2019-12-25 23:11:23 (44.8 MB/s) - ‘all.a010.p10.d300.w5.m100.nonorm.slim.joblib’ saved [1462416741/1462416741]\n",
            "\n"
          ],
          "name": "stdout"
        }
      ]
    },
    {
      "cell_type": "code",
      "metadata": {
        "id": "uDY7QADgJAwu",
        "colab_type": "code",
        "colab": {}
      },
      "source": [
        "import warnings\n",
        "warnings.filterwarnings('ignore')"
      ],
      "execution_count": 0,
      "outputs": []
    },
    {
      "cell_type": "markdown",
      "metadata": {
        "id": "7CNOIGsxJAwv",
        "colab_type": "text"
      },
      "source": [
        "# Препроцессинг текста"
      ]
    },
    {
      "cell_type": "code",
      "metadata": {
        "id": "LtNbDrnXJAww",
        "colab_type": "code",
        "outputId": "0e3bda6f-226d-4b7d-a3d4-fdad6653d1cf",
        "colab": {
          "base_uri": "https://localhost:8080/",
          "height": 71
        }
      },
      "source": [
        "from nltk import download as nltk_download\n",
        "nltk_download('stopwords')"
      ],
      "execution_count": 0,
      "outputs": [
        {
          "output_type": "stream",
          "text": [
            "[nltk_data] Downloading package stopwords to /root/nltk_data...\n",
            "[nltk_data]   Unzipping corpora/stopwords.zip.\n"
          ],
          "name": "stdout"
        },
        {
          "output_type": "execute_result",
          "data": {
            "text/plain": [
              "True"
            ]
          },
          "metadata": {
            "tags": []
          },
          "execution_count": 6
        }
      ]
    },
    {
      "cell_type": "code",
      "metadata": {
        "id": "yh4NjnmTMYfw",
        "colab_type": "code",
        "colab": {}
      },
      "source": [
        "from nltk.tokenize import RegexpTokenizer\n",
        "from nltk.corpus import stopwords\n",
        "\n",
        "from pymystem3 import Mystem\n",
        "mystem = Mystem()\n",
        "\n",
        "class TextPreprocessor:\n",
        "    def __init__(self):\n",
        "        self.tokenizer = RegexpTokenizer(r'[а-яА-ЯёЁ]+')\n",
        "        self.stop_words = stopwords.words('russian')\n",
        "\n",
        "    def process(self, text):\n",
        "        tokenized = self.tokenizer.tokenize(text)\n",
        "        lemmatized = [mystem.lemmatize(token.lower())[0] for token in tokenized]\n",
        "\n",
        "        return [word for word in lemmatized if word not in self.stop_words]\n",
        "\n",
        "text_preprocessor = TextPreprocessor()"
      ],
      "execution_count": 0,
      "outputs": []
    },
    {
      "cell_type": "markdown",
      "metadata": {
        "id": "BvVW2mlDLYsc",
        "colab_type": "text"
      },
      "source": [
        "# Работаем с adagram"
      ]
    },
    {
      "cell_type": "code",
      "metadata": {
        "id": "6SlO5sngJAwy",
        "colab_type": "code",
        "colab": {}
      },
      "source": [
        "import adagram"
      ],
      "execution_count": 0,
      "outputs": []
    },
    {
      "cell_type": "code",
      "metadata": {
        "id": "VFQoIjmcJAwz",
        "colab_type": "code",
        "colab": {}
      },
      "source": [
        "adagram_vm = adagram.VectorModel.load('all.a010.p10.d300.w5.m100.nonorm.slim.joblib')"
      ],
      "execution_count": 0,
      "outputs": []
    },
    {
      "cell_type": "markdown",
      "metadata": {
        "id": "NpNtlTX-JAw1",
        "colab_type": "text"
      },
      "source": [
        "Количество соседей у слова в модели с частотностью:"
      ]
    },
    {
      "cell_type": "code",
      "metadata": {
        "id": "juUfAZSAJAw2",
        "colab_type": "code",
        "outputId": "2fba79a3-b60d-46bc-e0cd-4d9dcc667adb",
        "colab": {
          "base_uri": "https://localhost:8080/",
          "height": 125
        }
      },
      "source": [
        "adagram_vm.word_sense_probs(LIGHT)"
      ],
      "execution_count": 0,
      "outputs": [
        {
          "output_type": "execute_result",
          "data": {
            "text/plain": [
              "[(0, 0.10958200299171707),\n",
              " (1, 0.28889593098959726),\n",
              " (2, 0.22618001157825376),\n",
              " (3, 0.11159016453333064),\n",
              " (4, 0.13259494691818238),\n",
              " (5, 0.13115681995171802)]"
            ]
          },
          "metadata": {
            "tags": []
          },
          "execution_count": 12
        }
      ]
    },
    {
      "cell_type": "markdown",
      "metadata": {
        "id": "i16qVUy5JAw4",
        "colab_type": "text"
      },
      "source": [
        "Более подходящие по смыслу нашим значениям - __2__ и __5__:"
      ]
    },
    {
      "cell_type": "code",
      "metadata": {
        "id": "UxONf9MPJAw4",
        "colab_type": "code",
        "outputId": "f7e7255d-990c-419a-bdcf-8fce800a708a",
        "colab": {
          "base_uri": "https://localhost:8080/",
          "height": 145
        }
      },
      "source": [
        "for idx, freq in enumerate(adagram_vm.word_sense_probs(LIGHT)):\n",
        "  neighbours = adagram_vm.sense_neighbors(LIGHT, idx)\n",
        "  print((freq, neighbours))"
      ],
      "execution_count": 0,
      "outputs": [
        {
          "output_type": "stream",
          "text": [
            "((0, 0.10958200299171707), [('луч', 1, 0.74209464), ('световой', 1, 0.7118988), ('рассеивать', 0, 0.67998713), ('излучение', 2, 0.6780513), ('спектр', 3, 0.6602384), ('излучать', 0, 0.65674734), ('монохроматический', 0, 0.65437716), ('интенсивность', 0, 0.65404993), ('радиоволна', 0, 0.6538729), ('фотон', 0, 0.6513885)])\n",
            "((1, 0.28889593098959726), [('сияние', 0, 0.8441459), ('бледный', 0, 0.77602106), ('отблеск', 0, 0.77482814), ('неяркий', 0, 0.77332705), ('свечение', 1, 0.7703127), ('мерцание', 0, 0.7677323), ('отсвет', 0, 0.7609194), ('тусклый', 0, 0.754006), ('блик', 1, 0.74678814), ('блик', 0, 0.74521506)])\n",
            "((2, 0.22618001157825376), [('земля', 1, 0.48637575), ('похожий', 0, 0.4651765), ('походить', 0, 0.43085188), ('мир', 3, 0.42383873), ('планета', 4, 0.40554008), ('край', 4, 0.38195944), ('диво', 2, 0.37982717), ('сцена', 1, 0.37856242), ('способный', 3, 0.3751216), ('жениться', 1, 0.373528)])\n",
            "((3, 0.11159016453333064), [('появляться', 1, 0.4725476), ('переиздание', 1, 0.46436742), ('выходить', 0, 0.45973048), ('издание', 0, 0.45354354), ('книга', 1, 0.45046142), ('сборник', 0, 0.44090274), ('трехтомник', 0, 0.43791154), ('1869', 2, 0.43528023), ('экран', 1, 0.42794102), ('журнал', 0, 0.42413685)])\n",
            "((4, 0.13259494691818238), [('сияние', 1, 0.7160883), ('сиять', 2, 0.65473086), ('озарять', 2, 0.65236413), ('тьма', 1, 0.6359536), ('луч', 3, 0.63310206), ('истина', 0, 0.6304866), ('светоч', 0, 0.62415904), ('неизреченный', 0, 0.6125253), ('вечность', 2, 0.6069799), ('лучезарный', 1, 0.60011107)])\n",
            "((5, 0.13115681995171802), [('лампа', 4, 0.70379126), ('ночник', 0, 0.70238507), ('погасить', 0, 0.6277083), ('зажигать', 0, 0.6217282), ('лампа', 0, 0.6204287), ('зажигаться', 0, 0.61716264), ('освещение', 2, 0.6013146), ('лампочка', 0, 0.5935244), ('дневной', 0, 0.5898949), ('фонарь', 0, 0.5768323)])\n"
          ],
          "name": "stdout"
        }
      ]
    },
    {
      "cell_type": "markdown",
      "metadata": {
        "id": "fjTccNwmWVKK",
        "colab_type": "text"
      },
      "source": [
        "# Играем с дизамбигуацией"
      ]
    },
    {
      "cell_type": "code",
      "metadata": {
        "id": "b_BKz2eVJAw7",
        "colab_type": "code",
        "colab": {}
      },
      "source": [
        "class Disambiguator:\n",
        "    def __init__(self, model, preprocessor):\n",
        "        self.model = model\n",
        "        self.text_preprocessor = preprocessor\n",
        "\n",
        "    def disambiguate(self, token, context):\n",
        "        prepared_context = self.text_preprocessor.process(context)\n",
        "        probabilities = self.model.disambiguate(token, prepared_context)\n",
        "\n",
        "        return probabilities.argmax()"
      ],
      "execution_count": 0,
      "outputs": []
    },
    {
      "cell_type": "code",
      "metadata": {
        "id": "vYmdQwoYSBYE",
        "colab_type": "code",
        "colab": {}
      },
      "source": [
        "disambiguator = Disambiguator(adagram_vm, text_preprocessor)"
      ],
      "execution_count": 0,
      "outputs": []
    },
    {
      "cell_type": "markdown",
      "metadata": {
        "id": "S2Lz6jrfVbpq",
        "colab_type": "text"
      },
      "source": [
        "## Пробуем прогнать для значения №1"
      ]
    },
    {
      "cell_type": "code",
      "metadata": {
        "id": "vLLIgdlENokX",
        "colab_type": "code",
        "outputId": "aac175e7-96a6-465b-e3e6-cea6a9cb97d7",
        "colab": {
          "base_uri": "https://localhost:8080/",
          "height": 91
        }
      },
      "source": [
        "predicted_light_meanings = []\n",
        "\n",
        "for light_context in light_dataset:\n",
        "    predicted_idx = disambiguator.disambiguate(LIGHT, light_context)\n",
        "    predicted_light_meanings.append(predicted_idx)\n",
        "    print(f'{predicted_idx}: {light_context[:-1]}: {adagram_vm.sense_neighbors(LIGHT, predicted_idx)}')"
      ],
      "execution_count": 0,
      "outputs": [
        {
          "output_type": "stream",
          "text": [
            "5: И лишь в одном из домов Тбилиси горел яркий свет: [('лампа', 4, 0.70379126), ('ночник', 0, 0.70238507), ('погасить', 0, 0.6277083), ('зажигать', 0, 0.6217282), ('лампа', 0, 0.6204287), ('зажигаться', 0, 0.61716264), ('освещение', 2, 0.6013146), ('лампочка', 0, 0.5935244), ('дневной', 0, 0.5898949), ('фонарь', 0, 0.5768323)]\n",
            "1: В спальне горит лампа, свет проникает в гостиную, косой кровавый блик стоит на стене, отброшенный туда медным боком княжеского сундука: [('сияние', 0, 0.8441459), ('бледный', 0, 0.77602106), ('отблеск', 0, 0.77482814), ('неяркий', 0, 0.77332705), ('свечение', 1, 0.7703127), ('мерцание', 0, 0.7677323), ('отсвет', 0, 0.7609194), ('тусклый', 0, 0.754006), ('блик', 1, 0.74678814), ('блик', 0, 0.74521506)]\n",
            "1: Остров подумал, что это кто-то бросил на его лицо слишком яркий свет из фонаря через окошко над дверью: [('сияние', 0, 0.8441459), ('бледный', 0, 0.77602106), ('отблеск', 0, 0.77482814), ('неяркий', 0, 0.77332705), ('свечение', 1, 0.7703127), ('мерцание', 0, 0.7677323), ('отсвет', 0, 0.7609194), ('тусклый', 0, 0.754006), ('блик', 1, 0.74678814), ('блик', 0, 0.74521506)]\n"
          ],
          "name": "stdout"
        }
      ]
    },
    {
      "cell_type": "markdown",
      "metadata": {
        "id": "qIJ-r2L2Wf9u",
        "colab_type": "text"
      },
      "source": [
        "## Пробуем прогнать для значения №2\n"
      ]
    },
    {
      "cell_type": "code",
      "metadata": {
        "id": "grMwLZs8WkAq",
        "colab_type": "code",
        "outputId": "929fcbcb-eb1b-459d-c976-44f6caf25822",
        "colab": {
          "base_uri": "https://localhost:8080/",
          "height": 91
        }
      },
      "source": [
        "predicted_world_meanings = []\n",
        "\n",
        "for world_context in world_dataset:\n",
        "    predicted_idx = disambiguator.disambiguate(LIGHT, world_context)\n",
        "    predicted_world_meanings.append(predicted_idx)\n",
        "    print(f'{predicted_idx}: {world_context[:-1]}: {adagram_vm.sense_neighbors(LIGHT, predicted_idx)}')"
      ],
      "execution_count": 0,
      "outputs": [
        {
          "output_type": "stream",
          "text": [
            "2: Поэтому я люблю русских, ибо нет такого ужасного места на целом свете, куда бы я ни отправилась с удовольствием, сопровождая его: [('земля', 1, 0.48637575), ('похожий', 0, 0.4651765), ('походить', 0, 0.43085188), ('мир', 3, 0.42383873), ('планета', 4, 0.40554008), ('край', 4, 0.38195944), ('диво', 2, 0.37982717), ('сцена', 1, 0.37856242), ('способный', 3, 0.3751216), ('жениться', 1, 0.373528)]\n",
            "0: Какая сторона света имеет право закрепить за собой все нарастающий эксцентриситет грузного тела российской государственности: [('луч', 1, 0.74209464), ('световой', 1, 0.7118988), ('рассеивать', 0, 0.67998713), ('излучение', 2, 0.6780513), ('спектр', 3, 0.6602384), ('излучать', 0, 0.65674734), ('монохроматический', 0, 0.65437716), ('интенсивность', 0, 0.65404993), ('радиоволна', 0, 0.6538729), ('фотон', 0, 0.6513885)]\n",
            "2: Как бы ни было, мадемуазель Жорж влюбилась в Бенкендорфа настолько, что решилась следовать за ним на край света: [('земля', 1, 0.48637575), ('похожий', 0, 0.4651765), ('походить', 0, 0.43085188), ('мир', 3, 0.42383873), ('планета', 4, 0.40554008), ('край', 4, 0.38195944), ('диво', 2, 0.37982717), ('сцена', 1, 0.37856242), ('способный', 3, 0.3751216), ('жениться', 1, 0.373528)]\n"
          ],
          "name": "stdout"
        }
      ]
    },
    {
      "cell_type": "markdown",
      "metadata": {
        "id": "bds770_CYbYZ",
        "colab_type": "text"
      },
      "source": [
        "## Пробуем прогнать для определения №1"
      ]
    },
    {
      "cell_type": "code",
      "metadata": {
        "id": "eX-n-9b2YgiA",
        "colab_type": "code",
        "outputId": "5d5b5ed3-5d4d-4cea-da3e-dbb84eb30253",
        "colab": {
          "base_uri": "https://localhost:8080/",
          "height": 55
        }
      },
      "source": [
        "predicted_light_def_idx = disambiguator.disambiguate(LIGHT, light_definition)\n",
        "print(f'{predicted_light_def_idx}: {adagram_vm.sense_neighbors(LIGHT, predicted_light_def_idx)}')"
      ],
      "execution_count": 0,
      "outputs": [
        {
          "output_type": "stream",
          "text": [
            "1: [('сияние', 0, 0.8441459), ('бледный', 0, 0.77602106), ('отблеск', 0, 0.77482814), ('неяркий', 0, 0.77332705), ('свечение', 1, 0.7703127), ('мерцание', 0, 0.7677323), ('отсвет', 0, 0.7609194), ('тусклый', 0, 0.754006), ('блик', 1, 0.74678814), ('блик', 0, 0.74521506)]\n"
          ],
          "name": "stdout"
        }
      ]
    },
    {
      "cell_type": "markdown",
      "metadata": {
        "id": "OyTQdP5hYg5m",
        "colab_type": "text"
      },
      "source": [
        "## Пробуем прогнать для определения №2"
      ]
    },
    {
      "cell_type": "code",
      "metadata": {
        "id": "K0T1_w_fYiL8",
        "colab_type": "code",
        "outputId": "26104a47-e398-4225-8c85-f942a41b2fe9",
        "colab": {
          "base_uri": "https://localhost:8080/",
          "height": 55
        }
      },
      "source": [
        "predicted_world_def_idx = disambiguator.disambiguate(LIGHT, world_definition)\n",
        "print(f'{predicted_world_def_idx}: {adagram_vm.sense_neighbors(LIGHT, predicted_world_def_idx)}')"
      ],
      "execution_count": 0,
      "outputs": [
        {
          "output_type": "stream",
          "text": [
            "3: [('появляться', 1, 0.4725476), ('переиздание', 1, 0.46436742), ('выходить', 0, 0.45973048), ('издание', 0, 0.45354354), ('книга', 1, 0.45046142), ('сборник', 0, 0.44090274), ('трехтомник', 0, 0.43791154), ('1869', 2, 0.43528023), ('экран', 1, 0.42794102), ('журнал', 0, 0.42413685)]\n"
          ],
          "name": "stdout"
        }
      ]
    },
    {
      "cell_type": "markdown",
      "metadata": {
        "id": "LYycHQg1ZhXW",
        "colab_type": "text"
      },
      "source": [
        "# WikiWordnet"
      ]
    },
    {
      "cell_type": "code",
      "metadata": {
        "id": "Bx9puLQfJAw9",
        "colab_type": "code",
        "colab": {}
      },
      "source": [
        "from wiki_ru_wordnet import WikiWordnet\n",
        "wiki_wordnet = WikiWordnet()"
      ],
      "execution_count": 0,
      "outputs": []
    },
    {
      "cell_type": "code",
      "metadata": {
        "id": "jRr7-5-IZnJ_",
        "colab_type": "code",
        "outputId": "7505e666-e7e4-4557-d3c1-544aa6bb6982",
        "colab": {
          "base_uri": "https://localhost:8080/",
          "height": 343
        }
      },
      "source": [
        "meanings = wiki_wordnet.get_synsets(LIGHT)\n",
        "\n",
        "print(f'Всего значений: {len(meaning_1)}')\n",
        "print(f'Список значений:')\n",
        "\n",
        "for meaning in meanings: \n",
        "    for word in meaning.get_words():\n",
        "        print(word.definition())"
      ],
      "execution_count": 0,
      "outputs": [
        {
          "output_type": "stream",
          "text": [
            "Всего значений: 8\n",
            "Список значений:\n",
            "свет~ru~свет~ru~{{физ.|ru}} электромагнитное [[излучение]] в видимом для живых существ частотном [[диапазон]]е {{пример|Но как они ни старались, им не удалось разобрать ни одного слова, несмотря на яркий {{выдел|свет}} фонаря: они были неграмотны и не умели читать.|Л. А. Чарская|Король с раскрашенной картинки|1912|источник=НКРЯ}} {{пример|На площадке темно, и нигде нет намёка на {{выдел|свет}}, а то, что проносится перед глазами, бесформенно, мутно и непонятно.|Л. Н. Андреев|Вор|1904|источник=НКРЯ}}~69792~61748\n",
            "свет~ru~свет~ru~[[источник]] света {{пример|И вдруг опал электрический {{выдел|свет}} ― остался только багрово-тусклый накалённый в лампочке волосок.|Солженицын|В круге первом, т.1|1968|источник=НКРЯ}} {{пример|Вот, вызывая тревогу, блеснул яркий солнечный {{выдел|свет}}, но навстречу снова надвигалась облачная стена.|И. А. Ефремов|Бухта радужных струй|1944|источник=НКРЯ}}~53885~62671\n",
            "свет~ru~свет~ru~{{спец.|ru}}, {{мн.}} светлые [[участок|участки]] изображения, фотографии {{пример|Фотоаппарат хорошо передаёт оттенки в {{выдел|светах}}.}}~2093~87258\n",
            "свет~ru~свет~ru~{{разг.|ru}} {{=|электроснабжение}} {{пример|Чтобы типография могла отпечатать план ГОЭЛРО, пришлось выключить {{выдел|свет}} даже в правительственных зданиях Москвы,{{-}}такова была в 1920 году мощность московских электростанций.|Даниил Гранин|Искатели|1954|источник=НКРЯ}} {{пример|Электрическая станция не работала. В домах не было {{выдел|света}}.|В. П. Катаев|Отец|1922–1925|источник=НКРЯ}} {{пример|В морге пахло, и Зеленов, патологоанатом, сказал, что холодильники текут, поскольку снова отключили {{выдел|свет}}.|Андрей Дмитриев|Призрак театра|издание=Знамя|2003|источник=НКРЯ}}~70989~3516\n",
            "электричество~ru~электричество~ru~{{разг.|ru}} {{=|электроснабжение}} {{пример|У нас сегодня опять {{выдел|электричество}} на три часа выключили!}}\n",
            "#~36269~84777\n",
            "свет~ru~свет~ru~{{разг.|ru}} {{=|освещение|осветительный прибор или их совокупность}} {{пример|С утра я выверил микрофоны, {{выдел|свет}}, заставил привезти рояль (там было пианино) и вечером пел.|Лидия Вертинская|Синяя птица любви|2004|источник=НКРЯ}} {{пример|После бесплодных попыток вызвать у нас смех Гайдай рассердился и приказал осветителям выключить {{выдел|свет}} в павильоне, оставив только дежурную лампу.|Юрий Никулин|Мое любимое кино|1979|источник=НКРЯ}}~36817~5031\n",
            "день~ru~день~ru~светлая [[часть]] суток от [[рассвет]]а до [[закат]]а [[солнце|солнца]], в противоположность [[ночь|ночи]] {{пример|Уж небо осенью дышало, // Уж реже солнышко блистало, // Короче становился {{выдел|день}}.|Пушкин|[[:s:Евгений Онегин (Пушкин)|Евгений Онегин]]|1823–1831}} {{пример|Уже бледнеет {{выдел|день}}, скрываясь за горою|Жуковский|Сельское кладбище|1802|источник=НКРЯ}} {{пример|Погас бледнея {{выдел|день}} осенний|Лермонтов|[[:s:Измаил-Бей (Лермонтов)|Измаил-Бей]]|1831|источник=Викитека}}~96014~11419\n",
            "свет~ru~свет~ru~{{помета|метафорически}}: [[день]], [[рассвет]] {{пример|}}~37338~18238\n",
            "вселенная~ru~вселенная~ru~весь [[мир]], мироздание {{пример}}~68282~75126\n",
            "мирозданье~ru~мирозданье~ru~{{=|мироздание}} {{пример|В этом яблоке одном — Жар любви и созиданье. В каждой половинке в нём — Половина {{выдел|мирозданья}}.|Евгений Гуреев|Крик, поцелуй и тишина|2010}}~6922~50106\n",
            "космос~ru~космос~ru~[[мир]], [[вселенная]] {{пример|}}~16393~35525\n",
            "свет~ru~свет~ru~[[мир]], [[часть]] вселенной {{пример|И вспомнил ещё, что нигде он не бывал счастлив, кроме родного края, а он объехал весь {{выдел|свет}}.|Вс. М. Гаршин|Attalea Princeps|1879|источник=НКРЯ}} {{пример|Как показало время, я сделала правильно― теперь, когда многих из них уже нет на этом {{выдел|свете}}, их «цветные» (после моего рукоделия) росчерки напоминают мне (и не только мне) об этих людях.|И. К. Архипова|Музыка жизни|1996|источник=НКРЯ}} {{пример|В качестве примера такого языкового влияния Люксенбург приводит известное изречение Корана о том, будто на том {{выдел|свете}} исламских самоубийц ждут девственницы, в тексте―\"хур\".|Рафаил Нудельман|Тайны вечных книг: ученые исследуют Коран|2003|источник=НКРЯ}}~59120~75080\n",
            "мироздание~ru~мироздание~ru~{{книжн.|ru}} [[вселенная]], [[мир]] {{пример|Идея о связи геометрии с идеальными объектами, лежащими в основе {{выдел|мироздания}}, восходит к Платону.|Капица С. П., Курдюмов С. П., Малинецкий Г. Г.|Синергетика и прогнозы будущего|2000|источник=НКРЯ}}~31654~26721\n",
            "свет~ru~свет~ru~{{социол.|ru}} светское [[общество]], узкий круг людей, принадлежащих к [[элитарный|элитарным]] [[привилегированный|привилегированным]] [[слой|слоям]] общества, связанный определенными узами условностей; [[истеблишмент]] {{пример|Хотя он и ездил изредка в петербургский {{выдел|свет}}, все любовные интересы его были вне {{выдел|света}}.|Лев Толстой|Анна Каренина|1878|источник=НКРЯ}} {{пример|Потом пустился я в большой {{выдел|свет}}, и скоро общество мне также надоело|Лермонтов|Герой нашего времени|1839–1841|источник=НКРЯ}}~51421~1327\n"
          ],
          "name": "stdout"
        }
      ]
    },
    {
      "cell_type": "markdown",
      "metadata": {
        "id": "YU-atqAgcUKm",
        "colab_type": "text"
      },
      "source": [
        "# Accuracy между значением и определением по мнению adagram"
      ]
    },
    {
      "cell_type": "code",
      "metadata": {
        "id": "JeAxTbwBcWvB",
        "colab_type": "code",
        "colab": {}
      },
      "source": [
        "from sklearn.metrics import accuracy_score"
      ],
      "execution_count": 0,
      "outputs": []
    },
    {
      "cell_type": "code",
      "metadata": {
        "id": "yp1PTwrdcwHz",
        "colab_type": "code",
        "outputId": "618388ec-3c08-43b5-adc4-f45a48e0faaa",
        "colab": {
          "base_uri": "https://localhost:8080/",
          "height": 53
        }
      },
      "source": [
        "print('Для первого значения')\n",
        "accuracy_score(predicted_light_meanings, [predicted_light_def_idx for _ in range(len(predicted_light_meanings))])"
      ],
      "execution_count": 0,
      "outputs": [
        {
          "output_type": "stream",
          "text": [
            "Для первого значения\n"
          ],
          "name": "stdout"
        },
        {
          "output_type": "execute_result",
          "data": {
            "text/plain": [
              "0.6666666666666666"
            ]
          },
          "metadata": {
            "tags": []
          },
          "execution_count": 64
        }
      ]
    },
    {
      "cell_type": "code",
      "metadata": {
        "id": "S8mMvrR-dofT",
        "colab_type": "code",
        "outputId": "d2c00b8b-9e65-410c-fa1e-87c80a893a4d",
        "colab": {
          "base_uri": "https://localhost:8080/",
          "height": 53
        }
      },
      "source": [
        "print('Для второго значения')\n",
        "accuracy_score(predicted_world_meanings, [predicted_world_def_idx for _ in range(len(predicted_world_meanings))])"
      ],
      "execution_count": 0,
      "outputs": [
        {
          "output_type": "stream",
          "text": [
            "Для второго значения\n"
          ],
          "name": "stdout"
        },
        {
          "output_type": "execute_result",
          "data": {
            "text/plain": [
              "0.0"
            ]
          },
          "metadata": {
            "tags": []
          },
          "execution_count": 66
        }
      ]
    }
  ]
}