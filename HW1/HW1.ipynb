{
  "nbformat": 4,
  "nbformat_minor": 0,
  "metadata": {
    "colab": {
      "name": "HW1.ipynb",
      "provenance": [],
      "collapsed_sections": []
    },
    "kernelspec": {
      "name": "python3",
      "display_name": "Python 3"
    }
  },
  "cells": [
    {
      "cell_type": "markdown",
      "metadata": {
        "id": "EZSy9YWEe0Y4",
        "colab_type": "text"
      },
      "source": [
        "# Домашнее задание 1. Извлечение ключевых слов\n",
        "\n",
        "При выполнении домашнего задания можно пользоваться тетрадкой с семинара.\n",
        "\n",
        "### Описание задания:\n",
        "\n",
        "1. Подготовить мини-корпус (4-5 текстов или до 10 тысяч токенов) с разметкой ключевых слов.\n",
        "Желательно указать источник корпуса и описать, в каком виде там были представлены ключевые слова.\n",
        "\n",
        "2. Разметить ключевые слова самостоятельно. Оценить пересечение с имеющейся разметкой.\n",
        "\n",
        "3. Применить к этому корпусу 3 метода извлечения ключевых слов на выбор (RAKE, TextRank, tf*idf, OKAPI BM25).\n",
        "\n",
        "4. Оценить точность, полноту, F-меру выбранных методов относительно имеющейся разметки.\n",
        "\n",
        "5. Описать ошибки автоматического выделения ключевых слов (что выделяется лишнее, что не выделяется);\n",
        "предложить свои методы решения этих проблем."
      ]
    },
    {
      "cell_type": "markdown",
      "metadata": {
        "id": "It2u8HMyfg2p",
        "colab_type": "text"
      },
      "source": [
        "# Задания 1-2"
      ]
    },
    {
      "cell_type": "markdown",
      "metadata": {
        "id": "rjV1x4NNfKL7",
        "colab_type": "text"
      },
      "source": [
        "1.\tТексты были взяты из новостного ресурса [«Телеканал Звезда»](https://tvzvezda.ru/). За ключевые слова были приняты тэги, указанные на портале. Рассматривались первые 3 три тэга, остальные отбрасывались. \n",
        "2.\tПервая строка – указанные на портале тэги (первые 3);\n",
        "Вторая строка – выделенные вручную ключевые слова; \n",
        "Третья строка – новостной текст (без заголовка) \n",
        "\n",
        "\n"
      ]
    },
    {
      "cell_type": "markdown",
      "metadata": {
        "id": "IYiiAaZ4fsID",
        "colab_type": "text"
      },
      "source": [
        "#### Текст 1\n",
        "\n",
        "__наука, медицина, старение__\n",
        "\n",
        "__ученые, организм, старение__\n",
        "\n",
        "Ученые из Московского государственного университета и исследователи из Гарвардского университета выяснили, когда начинается старение человека. Специалисты провели анализ эпигенетических клеток ДНК и собрали сведения о накоплении мутаций. Оказалось, что человеческий организм начинает стареть уже с момента зачатия. Как заявил руководитель исследования, профессор МГУ Вадим Гладышев, существует большое число теорий о старении человека. Ученые считают, что этот процесс запускается в момент рождения, при достижении половозрелости или достижении максимума физических и когнитивных функций. Специалисты из России и США рассмотрели данный вопрос с точки зрения накапливающихся в организме повреждений. Они считают, что организм начинает стареть из-за утраты функции отдельных клеток, систем, тканей и органов. Об этом АГН «Москва» сообщили в пресс-службе МГУ."
      ]
    },
    {
      "cell_type": "code",
      "metadata": {
        "id": "1K-MJtcUgmDN",
        "colab_type": "code",
        "colab": {}
      },
      "source": [
        "text_1_keywords = ['наука', 'медицина', 'старение']\n",
        "text_1_custom_keywords = ['ученые', 'организм', 'старение']\n",
        "text_1 = 'Ученые из Московского государственного университета и исследователи из Гарвардского университета выяснили, когда начинается старение человека. Специалисты провели анализ эпигенетических клеток ДНК и собрали сведения о накоплении мутаций. Оказалось, что человеческий организм начинает стареть уже с момента зачатия. Как заявил руководитель исследования, профессор МГУ Вадим Гладышев, существует большое число теорий о старении человека. Ученые считают, что этот процесс запускается в момент рождения, при достижении половозрелости или достижении максимума физических и когнитивных функций. Специалисты из России и США рассмотрели данный вопрос с точки зрения накапливающихся в организме повреждений. Они считают, что организм начинает стареть из-за утраты функции отдельных клеток, систем, тканей и органов. Об этом АГН «Москва» сообщили в пресс-службе МГУ.'"
      ],
      "execution_count": 0,
      "outputs": []
    },
    {
      "cell_type": "markdown",
      "metadata": {
        "id": "XHskgvgPf9_G",
        "colab_type": "text"
      },
      "source": [
        "#### Текст 2\n",
        "\n",
        "**квартиры, совет федерации, ипотека**\n",
        "\n",
        "**матвиенко, многодетние семьи, жилье**\n",
        "\n",
        "Председатель Совета Федерации Валентина Матвиенко заявила, что государство должно предоставлять квартиры многодетным семьям бесплатно или на условиях льготного ипотечного кредитования. «Я считаю, что многодетным семьям государство должно давать квартиры либо бесплатно, либо совсем на льготных условиях ипотеки», - сказала Матвиенко на пресс-конференции по итогам осенней сессии СФ. Матвиенко вспомнила о своей работе губернатора Санкт-Петербурга: многодетная семья получала квартиру бесплатно от города в течение года ожидания в очереди. Спикер Совфеда добавила, что такая «важная мера» будет «серьезной мотивацией» для многодетной семьи. «Нужно сделать так, чтобы многодетные семьи понимали, что с жильем им точно государство поможет и поддержит, потому что это ключевая вещь для любой семьи», - заключила спикер Совфеда. Матвиенко отметила, что шаги в этом направлении уже выполняются. Например, принят закон, согласно которому многодетная семья при рождении третьего ребенка и далее может получить компенсацию части ипотеки в размере 450 тысяч рублей. "
      ]
    },
    {
      "cell_type": "code",
      "metadata": {
        "id": "WPlrdJ9kgsD5",
        "colab_type": "code",
        "colab": {}
      },
      "source": [
        "text_2_keywords = ['квартиры', 'совет федерации', 'ипотека']\n",
        "text_2_custom_keywords = ['матвиенко', 'многодетние семьи', 'жилье']\n",
        "text_2 = 'Председатель Совета Федерации Валентина Матвиенко заявила, что государство должно предоставлять квартиры многодетным семьям бесплатно или на условиях льготного ипотечного кредитования. «Я считаю, что многодетным семьям государство должно давать квартиры либо бесплатно, либо совсем на льготных условиях ипотеки», - сказала Матвиенко на пресс-конференции по итогам осенней сессии СФ. Матвиенко вспомнила о своей работе губернатора Санкт-Петербурга: многодетная семья получала квартиру бесплатно от города в течение года ожидания в очереди. Спикер Совфеда добавила, что такая «важная мера» будет «серьезной мотивацией» для многодетной семьи. «Нужно сделать так, чтобы многодетные семьи понимали, что с жильем им точно государство поможет и поддержит, потому что это ключевая вещь для любой семьи», - заключила спикер Совфеда. Матвиенко отметила, что шаги в этом направлении уже выполняются. Например, принят закон, согласно которому многодетная семья при рождении третьего ребенка и далее может получить компенсацию части ипотеки в размере 450 тысяч рублей.'"
      ],
      "execution_count": 0,
      "outputs": []
    },
    {
      "cell_type": "markdown",
      "metadata": {
        "id": "n2VOcnBGf_BR",
        "colab_type": "text"
      },
      "source": [
        "#### Текст 3\n",
        "\n",
        "**экономика, деньги, доллар**\n",
        "\n",
        "**доллар, курс, падение**\n",
        "\n",
        "В ходе торгов на Московской бирже курсы евро и доллара обновляли минимумы с июля и марта прошлого года, опустившись до 68,59 рубля и 61,94 рубля соответственно. Курс доллара расчетами «завтра» на 13.57 по московскому времени снижался на 26 копеек - до 62,01 рубля. Курс европейской валюты падал на 41 копейку, до 68,64 рубля. Российскую валюту поддерживает налоговый период декабря, в ходе него банки, по оценкам экспертов, в бюджет перечислят свыше полутора триллионов рублей. Также во время утренних торгов рубль усиливался на фоне дорожающей нефти. Цена нефти Brent увеличивалась на 0,2% - до 66,53 доллара за баррель."
      ]
    },
    {
      "cell_type": "code",
      "metadata": {
        "id": "U21ZZFQ7gv5w",
        "colab_type": "code",
        "colab": {}
      },
      "source": [
        "text_3_keywords = ['экономика', 'деньги', 'доллар']\n",
        "text_3_custom_keywords = ['доллар', 'курс', 'падение']\n",
        "text_3 = 'В ходе торгов на Московской бирже курсы евро и доллара обновляли минимумы с июля и марта прошлого года, опустившись до 68,59 рубля и 61,94 рубля соответственно. Курс доллара расчетами «завтра» на 13.57 по московскому времени снижался на 26 копеек - до 62,01 рубля. Курс европейской валюты падал на 41 копейку, до 68,64 рубля. Российскую валюту поддерживает налоговый период декабря, в ходе него банки, по оценкам экспертов, в бюджет перечислят свыше полутора триллионов рублей. Также во время утренних торгов рубль усиливался на фоне дорожающей нефти. Цена нефти Brent увеличивалась на 0,2% - до 66,53 доллара за баррель.'"
      ],
      "execution_count": 0,
      "outputs": []
    },
    {
      "cell_type": "markdown",
      "metadata": {
        "id": "AWQIZRbrgAAd",
        "colab_type": "text"
      },
      "source": [
        "#### Текст 4\n",
        "\n",
        "**наука, гибкий график, сон**\n",
        "\n",
        "**гибкий график, сон, самочувствие**\n",
        "\n",
        "Ученые выяснили положительную взаимосвязь между гибким графиком и самочувствием. Для этого в одной средней школе города Альсдорфа в Западной Германии был проведен эксперимент на учащихся, которые, как и жители мегаполиса, страдают хроническим недосыпанием. «Вместо фиксированного начала в 8 часов утра в новой гибкой системе учащиеся старших классов могли решать, начинать ли им в 8 или в 9 утра, пропуская первый час», - объяснил идею эксперимента руководитель исследования Тилль Реннеберг, хронобиолог из Мюнхенского университета имени Людвига и Максимилиана. По системе со свободным выбором начала уроков дети вставали в течение шести недель. За это время у 97 процентов учеников браслеты на запястье зафиксировали увеличение средней продолжительности сна и улучшение его качества. Также дети чувствовали себя менее уставшими и лучше концентрировались во время занятий. Причиной таких изменений является не столько сам факт сдвига времени начала уроков, сколько ощущение внутренней свободы и возможности гибко управлять своим режимом дня и просыпаться без будильника. Об этом свидетельствуют результаты исследования, которые опубликованы в журнале Sleep. "
      ]
    },
    {
      "cell_type": "code",
      "metadata": {
        "id": "RULxVtc7gy6S",
        "colab_type": "code",
        "colab": {}
      },
      "source": [
        "text_4_keywords = ['наука', 'гибкий график', 'сон']\n",
        "text_4_custom_keywords = ['гибкий график', 'сон', 'самочувствие']\n",
        "text_4 = 'В ходе торгов на Московской бирже курсы евро и доллара обновляли минимумы с июля и марта прошлого года, опустившись до 68,59 рубля и 61,94 рубля соответственно. Курс доллара расчетами «завтра» на 13.57 по московскому времени снижался на 26 копеек - до 62,01 рубля. Курс европейской валюты падал на 41 копейку, до 68,64 рубля. Российскую валюту поддерживает налоговый период декабря, в ходе него банки, по оценкам экспертов, в бюджет перечислят свыше полутора триллионов рублей. Также во время утренних торгов рубль усиливался на фоне дорожающей нефти. Цена нефти Brent увеличивалась на 0,2% - до 66,53 доллара за баррель.'"
      ],
      "execution_count": 0,
      "outputs": []
    },
    {
      "cell_type": "markdown",
      "metadata": {
        "id": "mvwxaMKYrAsh",
        "colab_type": "text"
      },
      "source": [
        "#### Мера Жаккара для оригинальных и кастомных ключевых слов"
      ]
    },
    {
      "cell_type": "code",
      "metadata": {
        "id": "xfqubGexrFUR",
        "colab_type": "code",
        "colab": {}
      },
      "source": [
        "def jaccard_index(first, second):\n",
        "  first_set = set(first)\n",
        "  second_set = set(second)\n",
        "\n",
        "  return len(first_set & second_set) / len(first_set | second_set)"
      ],
      "execution_count": 0,
      "outputs": []
    },
    {
      "cell_type": "code",
      "metadata": {
        "id": "jgnttaNBr4L2",
        "colab_type": "code",
        "outputId": "ddab227c-7bc9-49ad-f9eb-d2b85ab09e6d",
        "colab": {
          "base_uri": "https://localhost:8080/",
          "height": 89
        }
      },
      "source": [
        "print('Первый текст: ', jaccard_index(text_1_keywords, text_1_custom_keywords))\n",
        "print('Второй текст: ', jaccard_index(text_2_keywords, text_2_custom_keywords))\n",
        "print('Третий текст: ', jaccard_index(text_3_keywords, text_3_custom_keywords))\n",
        "print('Четвертый текст: ', jaccard_index(text_4_keywords, text_4_custom_keywords))"
      ],
      "execution_count": 0,
      "outputs": [
        {
          "output_type": "stream",
          "text": [
            "Первый текст:  0.2\n",
            "Второй текст:  0.0\n",
            "Третий текст:  0.2\n",
            "Четвертый текст:  0.5\n"
          ],
          "name": "stdout"
        }
      ]
    },
    {
      "cell_type": "markdown",
      "metadata": {
        "id": "FZ0_r_b4gO9c",
        "colab_type": "text"
      },
      "source": [
        "# Задания 3-5"
      ]
    },
    {
      "cell_type": "code",
      "metadata": {
        "id": "qToRw-n1jOOY",
        "colab_type": "code",
        "outputId": "b35642e3-6490-47ef-a5f5-3af8b5a696f4",
        "colab": {
          "base_uri": "https://localhost:8080/",
          "height": 287
        }
      },
      "source": [
        "!pip uninstall pymystem3\n",
        "!pip install pymystem3==0.1.10"
      ],
      "execution_count": 0,
      "outputs": [
        {
          "output_type": "stream",
          "text": [
            "Uninstalling pymystem3-0.2.0:\n",
            "  Would remove:\n",
            "    /usr/local/lib/python3.6/dist-packages/pymystem3-0.2.0.dist-info/*\n",
            "    /usr/local/lib/python3.6/dist-packages/pymystem3/*\n",
            "Proceed (y/n)? y\n",
            "  Successfully uninstalled pymystem3-0.2.0\n",
            "Collecting pymystem3==0.1.10\n",
            "  Downloading https://files.pythonhosted.org/packages/51/56/57e550b53587719e92330a79c7c0f555402d953b00700efae6d5ca53cdef/pymystem3-0.1.10-py3-none-any.whl\n",
            "Requirement already satisfied: requests in /usr/local/lib/python3.6/dist-packages (from pymystem3==0.1.10) (2.21.0)\n",
            "Requirement already satisfied: idna<2.9,>=2.5 in /usr/local/lib/python3.6/dist-packages (from requests->pymystem3==0.1.10) (2.8)\n",
            "Requirement already satisfied: certifi>=2017.4.17 in /usr/local/lib/python3.6/dist-packages (from requests->pymystem3==0.1.10) (2019.11.28)\n",
            "Requirement already satisfied: urllib3<1.25,>=1.21.1 in /usr/local/lib/python3.6/dist-packages (from requests->pymystem3==0.1.10) (1.24.3)\n",
            "Requirement already satisfied: chardet<3.1.0,>=3.0.2 in /usr/local/lib/python3.6/dist-packages (from requests->pymystem3==0.1.10) (3.0.4)\n",
            "Installing collected packages: pymystem3\n",
            "Successfully installed pymystem3-0.1.10\n"
          ],
          "name": "stdout"
        }
      ]
    },
    {
      "cell_type": "code",
      "metadata": {
        "id": "vhUwejeciqTc",
        "colab_type": "code",
        "colab": {}
      },
      "source": [
        "from nltk.tokenize import RegexpTokenizer\n",
        "from nltk.corpus import stopwords\n",
        "from pymystem3 import Mystem"
      ],
      "execution_count": 0,
      "outputs": []
    },
    {
      "cell_type": "code",
      "metadata": {
        "id": "Sl8JF_2DisP3",
        "colab_type": "code",
        "outputId": "843af212-4852-4fba-fa1c-b07b4477e146",
        "colab": {
          "base_uri": "https://localhost:8080/",
          "height": 71
        }
      },
      "source": [
        "import nltk\n",
        "nltk.download('stopwords')"
      ],
      "execution_count": 0,
      "outputs": [
        {
          "output_type": "stream",
          "text": [
            "[nltk_data] Downloading package stopwords to /root/nltk_data...\n",
            "[nltk_data]   Unzipping corpora/stopwords.zip.\n"
          ],
          "name": "stdout"
        },
        {
          "output_type": "execute_result",
          "data": {
            "text/plain": [
              "True"
            ]
          },
          "metadata": {
            "tags": []
          },
          "execution_count": 7
        }
      ]
    },
    {
      "cell_type": "code",
      "metadata": {
        "id": "0Ejdfy7vivd0",
        "colab_type": "code",
        "outputId": "103d4383-9178-4930-809c-eb3841873c4b",
        "colab": {
          "base_uri": "https://localhost:8080/",
          "height": 35
        }
      },
      "source": [
        "mystem = Mystem()\n",
        "stop_words = stopwords.words('russian')\n",
        "tokenizer = RegexpTokenizer(r'[а-яА-ЯёЁ]+')"
      ],
      "execution_count": 0,
      "outputs": [
        {
          "output_type": "stream",
          "text": [
            "Installing mystem to /root/.local/bin/mystem from http://download.cdn.yandex.net/mystem/mystem-3.0-linux3.1-64bit.tar.gz\n"
          ],
          "name": "stderr"
        }
      ]
    },
    {
      "cell_type": "code",
      "metadata": {
        "id": "mTN_11-wiyWo",
        "colab_type": "code",
        "colab": {}
      },
      "source": [
        "def preprocess_text(text):\n",
        "    tokenized = tokenizer.tokenize(text)\n",
        "    lemmatized = [mystem.lemmatize(token)[0] for token in tokenized]\n",
        "    without_stopwords = [word for word in lemmatized if word not in stop_words]\n",
        "\n",
        "    return \" \".join(without_stopwords)"
      ],
      "execution_count": 0,
      "outputs": []
    },
    {
      "cell_type": "code",
      "metadata": {
        "id": "lBW5NrQ_ib2B",
        "colab_type": "code",
        "colab": {}
      },
      "source": [
        "dataset = [\n",
        "           preprocess_text(text_1.lower()),\n",
        "           preprocess_text(text_2.lower()),\n",
        "           preprocess_text(text_3.lower()),\n",
        "           preprocess_text(text_4.lower())]\n",
        "all_keywords = [\n",
        "                text_1_keywords,\n",
        "                text_2_keywords,\n",
        "                text_3_keywords,\n",
        "                text_4_keywords]\n",
        "all_custom_keywords = [\n",
        "                text_1_custom_keywords,\n",
        "                text_2_custom_keywords,\n",
        "                text_3_custom_keywords,\n",
        "                text_4_custom_keywords]"
      ],
      "execution_count": 0,
      "outputs": []
    },
    {
      "cell_type": "markdown",
      "metadata": {
        "id": "9hMrkfcLuhb8",
        "colab_type": "text"
      },
      "source": [
        "## Метрики"
      ]
    },
    {
      "cell_type": "code",
      "metadata": {
        "id": "1ZCP3lPKuZEm",
        "colab_type": "code",
        "colab": {}
      },
      "source": [
        "def evaluate(first, second, idx):\n",
        "  first_set = set(first)\n",
        "  second_set = set(second)\n",
        "\n",
        "  try:\n",
        "    precision = len(first_set & second_set) / len(first_set)\n",
        "  except ZeroDivisionError:\n",
        "    return (0.0, 0.0, 0.0)\n",
        "\n",
        "  try:\n",
        "    recall = len(first_set & second_set) / len(second_set)\n",
        "  except ZeroDivisionError:\n",
        "    return (precision, 0.0, 0.0)\n",
        "\n",
        "  try:\n",
        "    f_score = 2 * (precision * recall) / (precision + recall)\n",
        "  except ZeroDivisionError:\n",
        "    return (precision, recall, 0.0)\n",
        "\n",
        "  return (precision, recall, f_score)"
      ],
      "execution_count": 0,
      "outputs": []
    },
    {
      "cell_type": "markdown",
      "metadata": {
        "id": "PQ7_QVyVhlaG",
        "colab_type": "text"
      },
      "source": [
        "## TF-IDF"
      ]
    },
    {
      "cell_type": "code",
      "metadata": {
        "id": "7RonQYgWgM96",
        "colab_type": "code",
        "colab": {}
      },
      "source": [
        "import numpy as np\n",
        "from sklearn.feature_extraction.text import TfidfVectorizer"
      ],
      "execution_count": 0,
      "outputs": []
    },
    {
      "cell_type": "code",
      "metadata": {
        "id": "cUMU7l0ihvYy",
        "colab_type": "code",
        "colab": {}
      },
      "source": [
        "vectorizer = TfidfVectorizer()"
      ],
      "execution_count": 0,
      "outputs": []
    },
    {
      "cell_type": "code",
      "metadata": {
        "id": "Ac6goLPGhw-h",
        "colab_type": "code",
        "outputId": "32446f49-c85f-405c-b0ce-87fcc690efbb",
        "colab": {
          "base_uri": "https://localhost:8080/",
          "height": 109
        }
      },
      "source": [
        "for text_idx, text in enumerate(vectorizer.fit_transform(dataset).toarray()):\n",
        "    feature_names = vectorizer.get_feature_names()\n",
        "    keywords = [feature_names[idx] for idx, prob in enumerate(text) if prob > 0.18]\n",
        "\n",
        "    print(f'text_{text_idx} keywords: {keywords}')\n",
        "    # print(evaluate(np.array(feature_names), all_keywords[idx], idx))"
      ],
      "execution_count": 0,
      "outputs": [
        {
          "output_type": "stream",
          "text": [
            "text_0 keywords: ['достижение', 'клетка', 'мгу', 'момент', 'начинать', 'организм', 'специалист', 'старение', 'стареть', 'университет', 'ученый', 'функция', 'человек']\n",
            "text_1 keywords: ['бесплатно', 'государство', 'квартира', 'матвиенко', 'многодетный', 'семья']\n",
            "text_2 keywords: ['валюта', 'время', 'доллар', 'копейка', 'курс', 'нефть', 'рубль', 'торги', 'ход']\n",
            "text_3 keywords: ['валюта', 'время', 'доллар', 'копейка', 'курс', 'нефть', 'рубль', 'торги', 'ход']\n"
          ],
          "name": "stdout"
        }
      ]
    },
    {
      "cell_type": "markdown",
      "metadata": {
        "id": "ZgNxtVzItM9U",
        "colab_type": "text"
      },
      "source": [
        "## TextRank"
      ]
    },
    {
      "cell_type": "code",
      "metadata": {
        "id": "7eQqBs80tMKj",
        "colab_type": "code",
        "colab": {}
      },
      "source": [
        "from gensim.summarization import keywords as kw"
      ],
      "execution_count": 0,
      "outputs": []
    },
    {
      "cell_type": "code",
      "metadata": {
        "id": "B0SNB6bEtPLz",
        "colab_type": "code",
        "outputId": "c354c51b-9003-474c-8f04-cbf43a4ab61e",
        "colab": {
          "base_uri": "https://localhost:8080/",
          "height": 181
        }
      },
      "source": [
        "for idx, text in enumerate(dataset):\n",
        "  print(f'text_{idx} keywords: {kw(text, split=True)}')\n",
        "  print(evaluate(kw(text, split=True), all_keywords[idx], idx))"
      ],
      "execution_count": 0,
      "outputs": [
        {
          "output_type": "stream",
          "text": [
            "text_0 keywords: ['организм', 'клетка', 'университет', 'функция', 'считать', 'достижение', 'стареть момент', 'мгу', 'старение человек специалист', 'ученыи']\n",
            "(0.0, 0.0, 0)\n",
            "text_1 keywords: ['матвиенко', 'многодетныи семья бесплатно', 'квартира', 'это', 'ипотека', 'государство должно', 'получать', 'спикер совфед', 'осеннии', 'совет', 'льготныи']\n",
            "(0.09090909090909091, 0.3333333333333333, 0.14285714285714288)\n",
            "text_2 keywords: ['рубль', 'доллар', 'валюта', 'московскии', 'время', 'нефть', 'курс', 'ход торги']\n",
            "(0.125, 0.3333333333333333, 0.18181818181818182)\n",
            "text_3 keywords: ['рубль', 'доллар', 'валюта', 'московскии', 'время', 'нефть', 'курс', 'ход торги']\n",
            "(0.0, 0.0, 0)\n"
          ],
          "name": "stdout"
        }
      ]
    },
    {
      "cell_type": "markdown",
      "metadata": {
        "id": "1UJxlxRayL05",
        "colab_type": "text"
      },
      "source": [
        "## Rake"
      ]
    },
    {
      "cell_type": "code",
      "metadata": {
        "id": "gANLNKLIyNRe",
        "colab_type": "code",
        "outputId": "57c6f45b-a079-4ab3-c7f4-694539e999fc",
        "colab": {
          "base_uri": "https://localhost:8080/",
          "height": 199
        }
      },
      "source": [
        "!pip install python-rake"
      ],
      "execution_count": 0,
      "outputs": [
        {
          "output_type": "stream",
          "text": [
            "Collecting python-rake\n",
            "  Downloading https://files.pythonhosted.org/packages/f1/73/ca25af5abd2d1c87f191dbb2dd7cddb50716952c7d13b6b06b5281713709/python-rake-1.4.5.tar.gz\n",
            "Building wheels for collected packages: python-rake\n",
            "  Building wheel for python-rake (setup.py) ... \u001b[?25l\u001b[?25hdone\n",
            "  Created wheel for python-rake: filename=python_rake-1.4.5-cp36-none-any.whl size=13479 sha256=55ba117e6fe9134974d2c451fa47354b11fd6064cbc519afd24590e3fc1518cc\n",
            "  Stored in directory: /root/.cache/pip/wheels/d7/7a/89/a3fde73e563b625a62cbd4a412525198fb13f674f62ecb5cf9\n",
            "Successfully built python-rake\n",
            "Installing collected packages: python-rake\n",
            "Successfully installed python-rake-1.4.5\n"
          ],
          "name": "stdout"
        }
      ]
    },
    {
      "cell_type": "code",
      "metadata": {
        "id": "C9oBmHBqyXTK",
        "colab_type": "code",
        "colab": {}
      },
      "source": [
        "import RAKE"
      ],
      "execution_count": 0,
      "outputs": []
    },
    {
      "cell_type": "code",
      "metadata": {
        "id": "KYrNvMPxybRN",
        "colab_type": "code",
        "outputId": "7530f53a-baae-4653-84e4-d3a3aec9a0b1",
        "colab": {
          "base_uri": "https://localhost:8080/",
          "height": 89
        }
      },
      "source": [
        "rake = RAKE.Rake(stopwords.words(\"russian\"))\n",
        "\n",
        "for idx, text in enumerate(dataset):\n",
        "  raked = [tokens[0] for tokens in rake.run(text)]\n",
        "  print(f'text_{idx} keywords: {raked}')\n",
        "  # print(evaluate(raked, all_keywords[idx], idx))"
      ],
      "execution_count": 0,
      "outputs": [
        {
          "output_type": "stream",
          "text": [
            "text_0 keywords: []\n",
            "text_1 keywords: []\n",
            "text_2 keywords: []\n",
            "text_3 keywords: []\n"
          ],
          "name": "stdout"
        }
      ]
    }
  ]
}